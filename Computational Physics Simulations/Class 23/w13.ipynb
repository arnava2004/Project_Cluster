{
 "cells": [
  {
   "cell_type": "markdown",
   "id": "e1f7698f",
   "metadata": {},
   "source": [
    "# <center>Week 13 Class 1 <center>\n",
    "<div align=\"right\"> April 11 2023 </div>"
   ]
  },
  {
   "cell_type": "markdown",
   "id": "32bebb4a",
   "metadata": {},
   "source": [
    "<div class=\"alert alert-block alert-warning\">\n",
    "\n",
    "\n",
    "# Today's aims:\n",
    "* **_What is your final project?_**    \n",
    "* **_More on 1D ODEs, coupling excitable and oscilating elements_**\n",
    "* **_Demonstration of the Briggs–Rauscher reaction (modification of the Belousov–Zhabotinsky reaction)_**\n",
    "* (https://en.wikipedia.org/wiki/Briggs%E2%80%93Rauscher_reaction)\n",
    "* **_dynamics of the FHN model in 1D. Propagation of waves (in Python and JS)_**\n",
    "* **_wave dynamics of excitable systems_**\n",
    "* **_Implicit integration in 1D (The Thomas Algorithm)_**    \n",
    " "
   ]
  },
  {
   "cell_type": "markdown",
   "id": "a5c64429",
   "metadata": {},
   "source": [
    "## Periodic Boundary Conditions\n",
    "$$\n",
    "    u(x=0)=u(x=l)\n",
    "$$\n",
    "<img src=\"fig3.png\"  width=\"300\">"
   ]
  },
  {
   "cell_type": "code",
   "execution_count": null,
   "id": "e30b7897",
   "metadata": {},
   "outputs": [],
   "source": [
    "import numpy as np\n",
    "import matplotlib.pyplot as plt\n",
    "from math import *\n"
   ]
  },
  {
   "cell_type": "code",
   "execution_count": null,
   "id": "1e404df9",
   "metadata": {},
   "outputs": [],
   "source": [
    "# Since T(0)= T(num)  \n",
    "# How do we handle the extra values on the laplacian at 0 and num \n",
    "# laplacian = u(i+1)-2*u(i)+u(i-1)\n",
    "num=5\n",
    "x=np.linspace(0,1,num,endpoint=True); \n",
    "T=np.zeros(x.shape) ;\n",
    "T=x\n",
    "for i in range(0,num):\n",
    "    print(i,T[i])\n",
    "  \n",
    "print()    \n",
    "print(T[-1])\n"
   ]
  },
  {
   "cell_type": "markdown",
   "id": "fb028ae2",
   "metadata": {},
   "source": [
    "laplacian for i=0  $\\; (u[-2]-2u[0]+u[1])$\n",
    "\n",
    "laplacian for i=num $ \\; (u[1]-2u[-1]+u[-2])$"
   ]
  },
  {
   "cell_type": "code",
   "execution_count": null,
   "id": "ef221bc0",
   "metadata": {},
   "outputs": [],
   "source": [
    "# x is set between 0,1 by deviding the distance to 50 segments\n",
    "num=50\n",
    "x=np.linspace(0,1,num,endpoint=True); \n",
    "# Initial condition of u is given as zero everywhere in the domain.\n",
    "# set all u values to zero\n",
    "T=np.zeros(x.shape) ; \n",
    "T=x*(1-x)  # Vectorized way to make quadratic distribution\n",
    "Tn=np.zeros(x.shape) ; \n",
    "D=1.\n",
    "T0=.5;\n",
    "Tl=2;\n",
    "dt=.00015 ;\n",
    "dx=x[2]-x[1];\n",
    "Dlap=D*dt/(dx*dx)\n",
    "\n",
    "noTimeSteps =500; # number of time steps\n",
    "noCurves=20 ;      # number of curves to draw for the duration of the solution\n",
    "every=floor(noTimeSteps/noCurves); # how many time-steps between curves\n",
    "Th=np.zeros((T.shape[0],noCurves));\n",
    "Tmid=np.zeros(noCurves);\n",
    "k=0;\n",
    "\n",
    "for j in np.arange(noTimeSteps):\n",
    "    if (j%every == 0): # keep some history of u for plotting!\n",
    "        Th[:,k]=T;  #update using vectorization instead of for loop\n",
    "        Tmid[k]=T[25];\n",
    "        k=k+1;\n",
    "\n",
    "    for i in range(1,num-1):\n",
    "        Tn[i]=T[i]+Dlap*(T[i-1]-2.*T[i]+T[i+1]) ;\n",
    "        \n",
    "    Tn[0]= T[i]+Dlap*(T[-2]-2.*T[0]+T[1]); \n",
    "    Tn[-1]=T[-1]+Dlap*(T[1]-2.*T[-1]+T[-2]);\n",
    "    for i in range(0,num):\n",
    "        T[i]=Tn[i] ;\n",
    "       \n",
    "    \n",
    "print(Dlap);\n",
    "plt.figure(figsize=(6,2))\n",
    "\n",
    "plt.plot(x,Th);\n",
    "plt.xlabel('Length')\n",
    "plt.ylabel('Temperature')\n",
    "plt.show();\n"
   ]
  },
  {
   "cell_type": "code",
   "execution_count": null,
   "id": "d74da3fe",
   "metadata": {},
   "outputs": [],
   "source": [
    "# How fast it takes to burn yourself with the stove?\n",
    "<img src=\"fig4.png\">\n",
    "From skin data we can estimate that $D\\approx 290 cm^2/s$.\n",
    "\n",
    "Assuming that the skin width is about 500 microns and that you touch a pan that was in the overn at $200^0C \\;(\\approx 400^0F)$. \n",
    "\n",
    "The average reaction time of a person is 215 miliseconds, would it possible to move your hand fast enough to avoid being burnt?\n",
    "\n",
    "- Discretize the tissue in 100 segments and estimate what $dt$ to use.\n",
    "- How long would it take for the inner tissue of your finger to reach about $180^0C$?  \n",
    "\n",
    " ### Try this at home and see if you can tell me next class the value.\n",
    " And what is the average reaction time of a human?"
   ]
  },
  {
   "cell_type": "markdown",
   "id": "b9025354",
   "metadata": {},
   "source": [
    "### What values should we use for dx and dt?"
   ]
  },
  {
   "cell_type": "code",
   "execution_count": null,
   "id": "8bab8324",
   "metadata": {},
   "outputs": [],
   "source": [
    "#D dt/dx^2 < .5\n",
    "D=290 #cm^2/s\n",
    "dx=.05/100 #500 microns (in units of cm) devided by 100 units\n",
    "dt_max=dx*dx/(2*D)\n",
    "print('dt no maximum than',dt,'seconds')"
   ]
  },
  {
   "cell_type": "code",
   "execution_count": null,
   "id": "60ab89cc",
   "metadata": {},
   "outputs": [],
   "source": [
    "# x is set between 0,1 by deviding the distance to 50 segments\n",
    "num=100\n",
    "x=np.linspace(0,1,num,endpoint=True); \n",
    "# Initial condition of u is given as zero everywhere in the domain.\n",
    "# set all u values to zero\n",
    "T=np.zeros(x.shape) ; \n",
    "Tn=np.zeros(x.shape) ; \n",
    "D=290;  #cm^2/s\n",
    "Tl=200; # 200 C\n",
    "dt=.0000000004; \n",
    "dx=.05/100;  # consider at least 500 microns thickness of the skin. \n",
    "Dlap=D*dt/(dx*dx)\n",
    "print(Dlap)\n",
    "noTimeSteps = 25000 #89000; # number of time steps\n",
    "noCurves=20 ;      # number of curves to draw for the duration of the solution\n",
    "every=floor(noTimeSteps/noCurves); # how many time-steps between curves\n",
    "Th=np.zeros((T.shape[0],noCurves));\n",
    "Tend=np.zeros(noCurves);\n",
    "time=np.zeros(noCurves);\n",
    "k=0;\n",
    "\n",
    "for j in np.arange(noTimeSteps):\n",
    "    if (j%every == 0): # keep some history of u for plotting!\n",
    "        Th[:,k]=T;  #update using vectorization instead of for loop\n",
    "        Tend[k]=T[1];\n",
    "        time[k]=j*dt;\n",
    "        k=k+1;\n",
    "\n",
    "    for i in range(1,num-1):\n",
    "        Tn[i]=T[i]+Dlap*(T[i-1]-2.*T[i]+T[i+1]) ;\n",
    "        \n",
    "    for i in range(1,num-1):\n",
    "        T[i]=Tn[i] ;\n",
    "        T[0]= T[1];\n",
    "        T[num-1]=Tl;\n",
    "\n",
    "plt.figure(figsize=(6,2))\n",
    "print(noTimeSteps*dt);\n",
    "print(Tmid[noCurves-1]);\n",
    "plt.plot(x,Th);\n",
    "plt.xlabel('Length')\n",
    "plt.ylabel('Temperature')\n",
    "plt.show();\n",
    "plt.figure(figsize=(6,2))\n",
    "plt.plot(time,Tend)\n",
    "plt.xlabel('Length')\n",
    "plt.ylabel('curve number')\n",
    "plt.show();\n"
   ]
  },
  {
   "cell_type": "markdown",
   "id": "b6ca5e6a",
   "metadata": {},
   "source": [
    "# Propagation of waves\n",
    "\n",
    "Reaction diffusion models such as predator pray when coupled in space via diffusion can produce propagating waves and Turing Patterns.\n",
    "\n",
    "## Recall the neuron model from Fitzhugh-Nagumo\n",
    "\n",
    "#### FHN model a two variable neuronal model, and one of the  simple generic excitable sytem models.\n",
    "\n",
    "$$\\frac{du}{dt}= u(1-u)(u-a)-v$$\n",
    "\n",
    "\n",
    "$$\\frac{dv}{dt}=\\epsilon\\;(bu-v+\\delta)$$\n",
    "a=0.1,b=0.3, $\\delta$=0.0, $\\epsilon$=0.01\n",
    "### From Week 8 Class 2:\n",
    "<img src=\"fig5.png\">\n",
    "\n",
    "## 1D FitzHugh-Nagumo Model\n",
    "#### We add the diffusion to the voltage variable\n",
    "$$\n",
    "    \\frac{\\partial u}{\\partial t} = D \\frac{\\partial^2 u}{\\partial t} + u(1.-u)(u-a)-v  $$\n",
    "$$    \\frac{\\partial v}{\\partial t} = \\epsilon (bu-v+\\delta)\n",
    "$$\n",
    "#### How do we integrate these two equations numerically?\n",
    "a=0.1,b=0.3, $\\delta$=0.0, $\\epsilon$=0.01\n",
    "\n",
    "- This model only diffusses in voltage, why?\n",
    "- what would happen for models, like predator pray with 2 and 3 variables?"
   ]
  },
  {
   "cell_type": "markdown",
   "id": "a55d6917",
   "metadata": {},
   "source": [
    "Based on the single cell code below, make a 1D code for the neuron model and investigate the dynamics.\n",
    "- how will it differe from the termal problem?\n",
    "- what happens if you use the oscillation regime? \n",
    "- what happens when you stimulate one part of the tissue"
   ]
  },
  {
   "cell_type": "code",
   "execution_count": null,
   "id": "68cc6ef6",
   "metadata": {},
   "outputs": [],
   "source": [
    "## single cell code:\n",
    "# Use this single cell FHN model from week 8 class 2 \n",
    "#to make a 1D cable of cells  \n",
    "eps=.05;\n",
    "a=0.1;\n",
    "b=0.3;\n",
    "delta=0 #-0.045\n",
    "time=400;\n",
    "dt=0.01;\n",
    "ntime=int(time/dt);\n",
    "t= np.zeros(ntime);\n",
    "u= np.zeros(ntime);\n",
    "v= np.zeros(ntime);\n",
    "\n",
    "u[0]=0.5;\n",
    "v[0]=0;\n",
    "\n",
    "for i in range(1,ntime):\n",
    "    if(i % 2700 == 1):\n",
    "        u[i-1]=.8\n",
    "        \n",
    "    t[i]=i*dt;\n",
    "    u[i]=u[i-1]+dt*(u[i-1]*(1-u[i-1])*(u[i-1]-a)-v[i-1]);\n",
    "    v[i]=v[i-1]+dt*(eps*(b*u[i-1]-v[i-1]+delta));\n",
    "\n",
    "plt.figure(figsize=(6,2))\n",
    "plt.plot(t,u,label='u voltage')\n",
    "plt.plot(t,v,label='ion channel')\n",
    "\n",
    "plt.ylim(-0.3, 1)\n",
    "plt.xlim(0., time)\n",
    "plt.legend(bbox_to_anchor=(1.05, 1), loc=2, borderaxespad=0.)\n",
    "plt.show()  "
   ]
  },
  {
   "cell_type": "markdown",
   "id": "5f7bd14a",
   "metadata": {},
   "source": [
    "Note that in the previous code u[i] and v[i], i is the counter for time. <br>\n",
    "Now we will use i for space and evelove all of them in time, using a help variable ut[i]<br>\n",
    "#### Rhus our integration will be:\n",
    "$$u^{t+1}[i]=u^t[i]+\\frac{Ddt}{dx^2}(u^t[i-1]+u^t[i+1]-2u^t[i])+dtf(u^t[i],v^t[i])$$"
   ]
  },
  {
   "cell_type": "code",
   "execution_count": null,
   "id": "73045dfc",
   "metadata": {},
   "outputs": [],
   "source": [
    "#values to use:\n",
    "1*.01/(.2*.2)\n"
   ]
  },
  {
   "cell_type": "code",
   "execution_count": null,
   "id": "0b131408",
   "metadata": {
    "scrolled": true
   },
   "outputs": [],
   "source": [
    "#FHN model\n",
    "eps=.025;\n",
    "a=0.1;\n",
    "b=0.3;\n",
    "delta=0 #-0.045\n",
    "time=140;\n",
    "dt=0.01;\n",
    "ntime=int(time/dt);\n",
    "\n",
    "D=1\n",
    "dx=.25\n",
    "Dlap=D*dt/(dx*dx)\n",
    "num=200\n",
    "x=np.linspace(0,1,num,endpoint=True); \n",
    "u= np.zeros(num);\n",
    "ut= np.zeros(num);\n",
    "v= np.zeros(num);\n",
    "noCurves=30 ;      # number of curves to draw for the duration of the solution\n",
    "every=floor(ntime/noCurves); # how many time-steps between curves\n",
    "up=np.zeros((u.shape[0],noCurves));\n",
    "Dlap=D*dt/(dx*dx)\n",
    "\n",
    "for i in range(0,10): ## excite the first 10 cells.\n",
    "     u[i]=.9\n",
    "       \n",
    "    \n",
    "m=0\n",
    "for k in range(1,ntime):\n",
    "    if (k%every == 0): # keep some history of u for plotting!\n",
    "        up[:,m]=u;  #update using vectorization instead of for loop\n",
    "        m=m+1;\n",
    "        print(m,'out of',noCurves)\n",
    "    #if(i % 3000 == 1):\n",
    "    #    u[0]=.8\n",
    "        \n",
    "    for i in range(1,num-1):\n",
    "        ut[i]=\n",
    "        v[i]=v[i]+dt*(eps*(b*u[i]-v[i]+delta));     \n",
    "        \n",
    "    for i in range(1,num-1):\n",
    "        u[i]=ut[i] ;\n",
    "        u[0]= u[1];\n",
    "        u[num-1]=u[num-2];        \n",
    "            \n",
    "plt.figure(figsize=(6,2))   \n",
    "plt.plot(x,up);\n",
    "plt.xlabel('Length')\n",
    "plt.ylabel('voltage')\n",
    "plt.show();\n"
   ]
  },
  {
   "cell_type": "markdown",
   "id": "3d05d0fa",
   "metadata": {},
   "source": [
    "### What are time space plots?"
   ]
  },
  {
   "cell_type": "code",
   "execution_count": null,
   "id": "cc5d0f74",
   "metadata": {},
   "outputs": [],
   "source": [
    "plt.figure(figsize=(6,4))  \n",
    "deltaa=0\n",
    "for k in range(1,noCurves):\n",
    "    plt.plot(x,deltaa+up[:,k]);\n",
    "    deltaa=deltaa+.1\n",
    "#plt.plot(x,.1+up[:,1]);\n",
    "plt.xlabel('Length')\n",
    "plt.ylabel('time')\n",
    "plt.show();"
   ]
  },
  {
   "cell_type": "code",
   "execution_count": null,
   "id": "feb2f336",
   "metadata": {},
   "outputs": [],
   "source": [
    "Make an interactive \"slider\" to visualize what is happening.\n",
    "\n",
    "Use the interactive plot section from Week 8 class 1\n",
    "<img src=\"fig6.png\">\n"
   ]
  },
  {
   "cell_type": "code",
   "execution_count": null,
   "id": "8db04652",
   "metadata": {},
   "outputs": [],
   "source": [
    "import numpy as np\n",
    "from ipywidgets import interactive\n",
    "import matplotlib.pyplot as plt\n",
    "  \n",
    "def f(time=0):  # make time=0 starts the slider at value 0\n",
    "    plt.figure(figsize=(9,3)) \n",
    "    plt.plot(x,up[:,time]);\n",
    "    plt.xlabel('Length')\n",
    "    plt.ylabel('voltage')\n",
    "    plt.ylim(-.5,1.2)\n",
    "    plt.xlim(0,1)\n",
    "    plt.show();\n",
    "\n",
    "interactive_plot = interactive(f, time=(0, noCurves-1, 1))\n",
    "output = interactive_plot.children[-1]\n",
    "output.layout.height = '300px'\n",
    "interactive_plot"
   ]
  },
  {
   "cell_type": "markdown",
   "id": "acd7c8bb",
   "metadata": {},
   "source": [
    "### What happens when two waves collide?"
   ]
  },
  {
   "cell_type": "markdown",
   "id": "e2146d95",
   "metadata": {},
   "source": [
    "### Now, convert your code to be used with periodic boundary conditions\n"
   ]
  },
  {
   "cell_type": "code",
   "execution_count": null,
   "id": "a6e6b73a",
   "metadata": {},
   "outputs": [],
   "source": [
    "#FHN model\n",
    "eps=.025;\n",
    "a=0.1;\n",
    "b=0.3;\n",
    "delta=0 #-0.045\n",
    "time=200;\n",
    "dt=0.01;\n",
    "ntime=int(time/dt);\n",
    "\n",
    "D=1\n",
    "dx=.25\n",
    "Dlap=D*dt/(dx*dx)\n",
    "num=400\n",
    "x=np.linspace(0,1,num,endpoint=True); \n",
    "u= np.zeros(num);\n",
    "ut= np.zeros(num);\n",
    "v= np.zeros(num);\n",
    "noCurves=30 ;      # number of curves to draw for the duration of the solution\n",
    "every=floor(ntime/noCurves); # how many time-steps between curves\n",
    "up=np.zeros((u.shape[0],noCurves));\n",
    "Dlap=D*dt/(dx*dx)\n",
    "\n",
    "for i in range(90,110):\n",
    "     u[i]=.8\n",
    "     #v[i-10]=.2   \n",
    "    \n",
    "m=0\n",
    "for k in range(1,ntime):\n",
    "    if (k%every == 0): # keep some history of u for plotting!\n",
    "        up[:,m]=u;  #update using vectorization instead of for loop\n",
    "        m=m+1;\n",
    "    #if(i % 3000 == 1):\n",
    "    #    u[0]=.8\n",
    "        \n",
    "    for i in range(1,num-1):\n",
    "        ut[i]=u[i]+Dlap*(u[i-1]-2*u[i]+u[i+1])+dt*(u[i]*(1-u[i])*(u[i]-a)-v[i]);\n",
    "        v[i]=v[i]+dt*(eps*(b*u[i]-v[i]+delta));\n",
    "       \n",
    "    ut[0]=u[i]+Dlap*(u[-2]-2*u[0]+u[1])+dt*(u[i]*(1-u[i])*(u[i]-a)-v[i]);\n",
    "    ut[-1]=u[-1]+Dlap*(u[1]-2*u[-1]+u[-2])+dt*(u[i]*(1-u[i])*(u[i]-a)-v[i]);\n",
    "    v[0]=v[0]+dt*(eps*(b*u[0]-v[0]+delta));\n",
    "    v[-1]=v[-1]+dt*(eps*(b*u[-1]-v[i]+delta));\n",
    "\n",
    "    for i in range(0,num):\n",
    "        u[i]=ut[i] ;\n",
    "        \n",
    "plt.figure(figsize=(9,2))   \n",
    "plt.plot(x,up);\n",
    "plt.xlabel('Length')\n",
    "plt.ylabel('voltage')\n",
    "plt.show();\n"
   ]
  },
  {
   "cell_type": "markdown",
   "id": "8b7adf30",
   "metadata": {},
   "source": [
    "Make an interactive plot"
   ]
  },
  {
   "cell_type": "code",
   "execution_count": null,
   "id": "5d5e6851",
   "metadata": {},
   "outputs": [],
   "source": [
    "import numpy as np\n",
    "from ipywidgets import interactive\n",
    "import matplotlib.pyplot as plt\n",
    "\n",
    "def f(time=0):\n",
    "    plt.figure(figsize=(9,3))   \n",
    "    plt.plot(x,up[:,time]);\n",
    "    plt.xlabel('Length')\n",
    "    plt.ylabel('voltage')\n",
    "    plt.ylim(-.5,1.2)\n",
    "    plt.xlim(0,1)\n",
    "    plt.show();\n",
    "\n",
    "interactive_plot = interactive(f, time=(0, noCurves-2, 1))\n",
    "output = interactive_plot.children[-1]\n",
    "output.layout.height = '250px'\n",
    "interactive_plot"
   ]
  },
  {
   "cell_type": "markdown",
   "id": "36b98eec",
   "metadata": {},
   "source": [
    "Refratory periods are very important in the dynamics of excitable system."
   ]
  },
  {
   "cell_type": "code",
   "execution_count": null,
   "id": "7264ff22",
   "metadata": {},
   "outputs": [],
   "source": [
    "#FHN model\n",
    "eps=.025;\n",
    "a=0.1;\n",
    "b=0.3;\n",
    "delta=0 #-0.045\n",
    "time=300;\n",
    "dt=0.01;\n",
    "ntime=int(time/dt);\n",
    "\n",
    "D=1\n",
    "dx=.25\n",
    "Dlap=D*dt/(dx*dx)\n",
    "num=400\n",
    "x=np.linspace(0,1,num,endpoint=True); \n",
    "u= np.zeros(num);\n",
    "ut= np.zeros(num);\n",
    "v= np.zeros(num);\n",
    "noCurves=40 ;      # number of curves to draw for the duration of the solution\n",
    "every=floor(ntime/noCurves); # how many time-steps between curves\n",
    "up=np.zeros((u.shape[0],noCurves));\n",
    "Dlap=D*dt/(dx*dx)\n",
    "\n",
    "for i in range(90,110):\n",
    "     u[i]=.8\n",
    "     v[i-15]=.2   \n",
    "    \n",
    "m=0\n",
    "for k in range(1,ntime):\n",
    "    if (k%every == 0): # keep some history of u for plotting!\n",
    "        up[:,m]=u;  #update using vectorization instead of for loop\n",
    "        m=m+1;\n",
    "    #if(i % 3000 == 1):\n",
    "    #    u[0]=.8\n",
    "        \n",
    "    for i in range(1,num-1):\n",
    "        ut[i]=u[i]+Dlap*(u[i-1]-2*u[i]+u[i+1])+dt*(u[i]*(1-u[i])*(u[i]-a)-v[i]);\n",
    "        v[i]=v[i]+dt*(eps*(b*u[i]-v[i]+delta));\n",
    "       \n",
    "    ut[0]=u[i]+Dlap*(u[-2]-2*u[0]+u[1])+dt*(u[i]*(1-u[i])*(u[i]-a)-v[i]);\n",
    "    ut[-1]=u[-1]+Dlap*(u[1]-2*u[-1]+u[-2])+dt*(u[i]*(1-u[i])*(u[i]-a)-v[i]);\n",
    "    v[0]=v[0]+dt*(eps*(b*u[0]-v[0]+delta));\n",
    "    v[-1]=v[-1]+dt*(eps*(b*u[-1]-v[i]+delta));\n",
    "\n",
    "    for i in range(0,num):\n",
    "        u[i]=ut[i] ;\n",
    "        \n",
    "plt.figure(figsize=(9,3))   \n",
    "plt.plot(x,up);\n",
    "plt.xlabel('Length')\n",
    "plt.ylabel('voltage')\n",
    "plt.show();\n"
   ]
  },
  {
   "cell_type": "code",
   "execution_count": null,
   "id": "f42eccf3",
   "metadata": {},
   "outputs": [],
   "source": [
    "import numpy as np\n",
    "from ipywidgets import interactive\n",
    "import matplotlib.pyplot as plt\n",
    "\n",
    "def f(time=0):\n",
    "    plt.figure(figsize=(9,3))   \n",
    "    plt.plot(x,up[:,time]);\n",
    "    plt.xlabel('Length')\n",
    "    plt.ylabel('voltage')\n",
    "    plt.ylim(-.5,1.2)\n",
    "    plt.xlim(0,1)\n",
    "    plt.show();\n",
    "\n",
    "interactive_plot = interactive(f, time=(0, noCurves-2, 1))\n",
    "output = interactive_plot.children[-1]\n",
    "output.layout.height = '450px'\n",
    "interactive_plot"
   ]
  },
  {
   "cell_type": "markdown",
   "id": "ab42870f",
   "metadata": {},
   "source": [
    "### Implict integration in 1D for parabolic equations and reaction diffusion equations\n",
    "Remember that Euler integration is: $$u^{t+1}[i]=u^t[i]+\\frac{Ddt}{dx^2}(u^t[i+1]-2u^t[i]+u^t[i-1]+dtf(u^t[i],v^t[i])$$\n",
    "implictily it will be to use the new time, at least for the diffusion part:\n",
    "$$u^{\\bf{t+1}}[i]=u^t[i]+\\frac{Ddt}{dx^2}(u^{\\bf{t+1}}[i+1]-2u^{\\bf{t+1}}[i]+u^{\\bf{t+1}}[i-1])+dtf(u^t[i],v^t[i])$$"
   ]
  },
  {
   "cell_type": "markdown",
   "id": "0820256e",
   "metadata": {},
   "source": [
    "therefore we have that:\n",
    "   $$ (Ddt/dx^2)u^{\\bf{t+1}}_{i+1}+(1-2Ddt/dx^2)u^{\\bf{t+1}}_i+(Ddt/dx^2)u^{\\bf{t+1}}_{i-1}=u^t_i + dt f(u^t_i , v^t_i ) $$ \n",
    "   \n",
    " this generates a 3D matrix that needs to be inverted to solve for $u^{t+1}_i$\n",
    " <img src=\"matrix.png\"  width=\"300\">\n",
    " Note that the top and bottom entry has only 2 components, because of the boundary conditions considered here, (zero flux).\n",
    " https://en.wikipedia.org/wiki/Tridiagonal_matrix_algorithm"
   ]
  },
  {
   "cell_type": "markdown",
   "id": "287ac1b1",
   "metadata": {},
   "source": [
    "in here:  $c_i$=$a_i$=$Ddt/dx^2$ except for $c_1=2Ddt/dx^2$ and $a_k=2Ddt/dx^2$<br>\n",
    "$b_i=(1-2D dt/dx^2)$ and $d_i=u^t_i+dt f(u^t_i,v^t_i)$"
   ]
  },
  {
   "cell_type": "markdown",
   "id": "952d4301",
   "metadata": {},
   "source": [
    "Try this at home and if not we will code it next Tuesday"
   ]
  },
  {
   "cell_type": "markdown",
   "id": "904a8543",
   "metadata": {},
   "source": [
    "For Thursday, I have to go to a meeting at Emory. but this is good time for you durning class time to take the following online class I did with one of my postdoc to learn WebGL (JavaScript with interaction with the GPU) for ultrafast simulations of complex physical problems.\n",
    "<br>\n",
    "(https://github.com/kaboudian/WebGLTutorials)"
   ]
  },
  {
   "cell_type": "markdown",
   "id": "18301865",
   "metadata": {},
   "source": [
    "(https://www.sciencedirect.com/science/article/pii/S0960077919300037)"
   ]
  }
 ],
 "metadata": {
  "kernelspec": {
   "display_name": "Python 3 (ipykernel)",
   "language": "python",
   "name": "python3"
  },
  "language_info": {
   "codemirror_mode": {
    "name": "ipython",
    "version": 3
   },
   "file_extension": ".py",
   "mimetype": "text/x-python",
   "name": "python",
   "nbconvert_exporter": "python",
   "pygments_lexer": "ipython3",
   "version": "3.9.13"
  }
 },
 "nbformat": 4,
 "nbformat_minor": 5
}
