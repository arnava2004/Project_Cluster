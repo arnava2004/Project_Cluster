{
 "cells": [
  {
   "cell_type": "markdown",
   "id": "04594f30",
   "metadata": {},
   "source": [
    "# Flocking models"
   ]
  },
  {
   "cell_type": "markdown",
   "id": "a39ee00f",
   "metadata": {},
   "source": [
    "## The Vicsek model\n",
    "\n",
    "This model is a simple description of collective behavior. It is an agent-based model, where the behavior of each individual is computed to understand the properties of the group.\n",
    "\n",
    "The simulation takes place in a square with side length $L$ using periodic boundary conditions, with the square containing $N$ agents.\n",
    "\n",
    "Each agent has a position $\\mathbf{x}_i$ and orientation $\\theta_i$, with velocity $\\mathbf{v}_i$ is computed from $\\theta_i$. All agents move at the same speed $v$.\n",
    "\n",
    "The update step for the model is\n",
    "\\begin{align}\n",
    "  \\mathbf{x}_i(t+\\Delta t) &= \\mathbf{x}_i(t) + \\mathbf{v}_i(t) \\Delta t\\\\\n",
    "  \\theta_i(t+\\Delta t) &= \\langle\\theta(t)\\rangle_r + \\Delta\\theta,\n",
    "\\end{align}\n",
    "where $\\langle\\theta(t)\\rangle_r$ is the average orientation of all agents within a distance $r$, given by\n",
    "\\begin{align}\n",
    "  \\langle\\theta(t)\\rangle_r = \\arctan\\left(\\frac{\\langle\\sin(\\theta(t)\\rangle_r}{\\langle\\cos(\\theta(t)\\rangle_r}\\right).\n",
    "\\end{align}\n",
    "The term $\\Delta\\theta$ is a noise term drawn from a uniform probability distribution $[-\\eta/2,\\eta/2]$.\n",
    "\n",
    "As the radius $r$ is used as the length scale and $\\Delta{}t$ is used as the time scale, the parameters are\n",
    "- $N$, the number of agents,\n",
    "- $L$, the size of the simulation space,\n",
    "- $\\eta$, the strength of the noise term, and\n",
    "- $v$, the speed of each agent (distance per update step)."
   ]
  },
  {
   "cell_type": "markdown",
   "id": "fc5ce9d7",
   "metadata": {},
   "source": [
    "## Demo\n",
    "\n",
    "An interactive implementation of the Vicsek model is included below."
   ]
  },
  {
   "cell_type": "code",
   "execution_count": null,
   "id": "8e33de39",
   "metadata": {
    "scrolled": false
   },
   "outputs": [
    {
     "data": {
      "text/html": [
       "\n",
       "        <iframe\n",
       "            width=\"1000\"\n",
       "            height=\"600\"\n",
       "            src=\"./vicsek.html\"\n",
       "            frameborder=\"0\"\n",
       "            allowfullscreen\n",
       "            \n",
       "        ></iframe>\n",
       "        "
      ],
      "text/plain": [
       "<IPython.lib.display.IFrame at 0x27d93f7dc90>"
      ]
     },
     "execution_count": 1,
     "metadata": {},
     "output_type": "execute_result"
    }
   ],
   "source": [
    "from IPython.display import IFrame\n",
    "\n",
    "IFrame(src='./vicsek.html', width=1000, height=600)"
   ]
  },
  {
   "cell_type": "markdown",
   "id": "36a18e0f",
   "metadata": {},
   "source": [
    "## Order parameter\n",
    "\n",
    "One question we may ask about the simulation at any particular time step is the degree of synchronization among the group. If the entire group is moving in the same direction, the simulation is in a state of complete order, while a completely uncoordinated group would be expected to have an average velocity of zero.\n",
    "\n",
    "The order parameter is a useful metric for quantifying the state of the system. It is defined as the average velocity normalized to 1,\n",
    "\\begin{align}\n",
    "  \\phi = \\frac{1}{Nv}\\left|\\sum_{i=1}^N\\mathbf{v}_i\\right|.\n",
    "\\end{align}\n",
    "A value of $\\phi=1$ indicates a state of complete order, while a value of $\\phi=0$ indicates a state of complete disorder."
   ]
  },
  {
   "cell_type": "markdown",
   "id": "f63e398d",
   "metadata": {},
   "source": [
    "## Phase transitions\n",
    "\n",
    "The order parameter is a useful tool for answering questions about how changes to the parameters affect the behavior of the group. One way to explore the parameter space is to try slowly changing one of the sliders in the demo above.\n",
    "\n",
    "A Python implementation of the Vicsek model allows a programmatic approach."
   ]
  },
  {
   "cell_type": "code",
   "execution_count": null,
   "id": "709850db",
   "metadata": {},
   "outputs": [],
   "source": [
    "import math\n",
    "import random\n",
    "\n",
    "import matplotlib.pyplot as plt\n",
    "import numpy as np\n",
    "\n",
    "class Vicsek:\n",
    "    def __init__(self, num_agents, size, noise_mag, speed):\n",
    "        self.num_agents = min(num_agents, 1000)\n",
    "        self.size = size\n",
    "        self.noise_mag = noise_mag\n",
    "        self.speed = speed\n",
    "        \n",
    "        self.pos = size * np.random.rand(num_agents, 2)\n",
    "        self.phase = 2 * math.pi * np.random.rand(num_agents) - math.pi\n",
    "\n",
    "    def distance(self, i, j):\n",
    "        d = np.abs(self.pos[i, :] - self.pos[j, :])\n",
    "\n",
    "        if d[0] >= 0.5*self.size:\n",
    "            d[0] -= self.size\n",
    "        if d[1] >= 0.5*self.size:\n",
    "            d[1] -= self.size\n",
    "\n",
    "        return np.linalg.norm(d)\n",
    "\n",
    "    def neighbor_avg(self, i):\n",
    "        csum = 0\n",
    "        ssum = 0\n",
    "        count = 0\n",
    "    \n",
    "        for j in range(self.num_agents):\n",
    "            if self.distance(i, j) < 1:\n",
    "                csum += np.cos(self.phase[j])\n",
    "                ssum += np.sin(self.phase[j])\n",
    "                count += 1\n",
    "\n",
    "        return np.arctan2(ssum/count, csum/count) if count != 0 else 0\n",
    "\n",
    "    def update(self):\n",
    "        for i in range(self.num_agents):\n",
    "            self.pos[i, 0] += self.speed * np.cos(self.phase[i])\n",
    "            self.pos[i, 1] += self.speed * np.sin(self.phase[i])\n",
    "            self.phase[i] = self.neighbor_avg(i) + random.uniform(-0.5*self.noise_mag, 0.5*self.noise_mag)\n",
    "\n",
    "            if self.pos[i, 0] >= self.size:\n",
    "                self.pos[i, 0] -= self.size\n",
    "            elif self.pos[i, 0] < self.size:\n",
    "                self.pos[i, 0] += self.size\n",
    "            if self.pos[i, 1] >= self.size:\n",
    "                self.pos[i, 1] -= self.size\n",
    "            elif self.pos[i, 1] < self.size:\n",
    "                self.pos[i, 1] += self.size\n",
    "\n",
    "            if self.phase[i] >= math.pi:\n",
    "                self.phase[i] -= math.pi\n",
    "            elif self.phase[i] < -math.pi:\n",
    "                self.phase[i] += math.pi\n",
    "\n",
    "    def get_order(self):\n",
    "        sumx = np.sum(np.cos(self.phase[0:self.num_agents]))\n",
    "        sumy = np.sum(np.sin(self.phase[0:self.num_agents]))\n",
    "\n",
    "        return np.linalg.norm([sumx, sumy]) / self.num_agents"
   ]
  },
  {
   "cell_type": "markdown",
   "id": "dd82e690",
   "metadata": {},
   "source": [
    "## Noise"
   ]
  },
  {
   "cell_type": "code",
   "execution_count": 3,
   "id": "9243a3b9",
   "metadata": {},
   "outputs": [
    {
     "data": {
      "text/plain": [
       "Text(0.5, 0, 'Noise')"
      ]
     },
     "execution_count": 3,
     "metadata": {},
     "output_type": "execute_result"
    },
    {
     "data": {
      "image/png": "[encoded data removed]",
      "text/plain": [
       "<Figure size 640x480 with 1 Axes>"
      ]
     },
     "metadata": {},
     "output_type": "display_data"
    }
   ],
   "source": [
    "runs = 5\n",
    "noise = np.linspace(0, 6.29, 10)\n",
    "order = np.zeros((len(noise), runs))\n",
    "\n",
    "for r in range(runs):\n",
    "    for i in range(len(noise)):\n",
    "        v = Vicsek(50, 3, noise[i], 0.03)\n",
    "        for j in range(50):\n",
    "            v.update()\n",
    "        order[i, r] = v.get_order()\n",
    "\n",
    "plt.errorbar(noise, np.average(order, axis=1), yerr=np.std(order, axis=1))\n",
    "plt.ylim(0,1)\n",
    "plt.ylabel(\"Order\")\n",
    "plt.xlabel(\"Noise\")"
   ]
  },
  {
   "cell_type": "markdown",
   "id": "9ef1f6ad",
   "metadata": {},
   "source": [
    "## Density"
   ]
  },
  {
   "cell_type": "code",
   "execution_count": 4,
   "id": "e6fbd43f",
   "metadata": {},
   "outputs": [
    {
     "ename": "KeyboardInterrupt",
     "evalue": "",
     "output_type": "error",
     "traceback": [
      "\u001b[1;31m---------------------------------------------------------------------------\u001b[0m",
      "\u001b[1;31mKeyboardInterrupt\u001b[0m                         Traceback (most recent call last)",
      "\u001b[1;32mc:\\Users\\Arnav\\Desktop\\Projects\\Project-Hm\\Computational Physics Simulations\\Class 16\\vicsek_demo.ipynb Cell 11\u001b[0m line \u001b[0;36m9\n\u001b[0;32m      <a href='vscode-notebook-cell:/c%3A/Users/Arnav/Desktop/Projects/Project-Hm/Computational%20Physics%20Simulations/Class%2016/vicsek_demo.ipynb#X13sZmlsZQ%3D%3D?line=6'>7</a>\u001b[0m         v \u001b[39m=\u001b[39m Vicsek(\u001b[39m50\u001b[39m, size[i], \u001b[39m2.0\u001b[39m, \u001b[39m0.03\u001b[39m)\n\u001b[0;32m      <a href='vscode-notebook-cell:/c%3A/Users/Arnav/Desktop/Projects/Project-Hm/Computational%20Physics%20Simulations/Class%2016/vicsek_demo.ipynb#X13sZmlsZQ%3D%3D?line=7'>8</a>\u001b[0m         \u001b[39mfor\u001b[39;00m j \u001b[39min\u001b[39;00m \u001b[39mrange\u001b[39m(\u001b[39m50\u001b[39m):\n\u001b[1;32m----> <a href='vscode-notebook-cell:/c%3A/Users/Arnav/Desktop/Projects/Project-Hm/Computational%20Physics%20Simulations/Class%2016/vicsek_demo.ipynb#X13sZmlsZQ%3D%3D?line=8'>9</a>\u001b[0m             v\u001b[39m.\u001b[39mupdate()\n\u001b[0;32m     <a href='vscode-notebook-cell:/c%3A/Users/Arnav/Desktop/Projects/Project-Hm/Computational%20Physics%20Simulations/Class%2016/vicsek_demo.ipynb#X13sZmlsZQ%3D%3D?line=9'>10</a>\u001b[0m         order[i, r] \u001b[39m=\u001b[39m v\u001b[39m.\u001b[39mget_order()\n\u001b[0;32m     <a href='vscode-notebook-cell:/c%3A/Users/Arnav/Desktop/Projects/Project-Hm/Computational%20Physics%20Simulations/Class%2016/vicsek_demo.ipynb#X13sZmlsZQ%3D%3D?line=11'>12</a>\u001b[0m plt\u001b[39m.\u001b[39merrorbar(\u001b[39m50\u001b[39m\u001b[39m/\u001b[39msize, np\u001b[39m.\u001b[39maverage(order, axis\u001b[39m=\u001b[39m\u001b[39m1\u001b[39m), yerr\u001b[39m=\u001b[39mnp\u001b[39m.\u001b[39mstd(order, axis\u001b[39m=\u001b[39m\u001b[39m1\u001b[39m))\n",
      "\u001b[1;32mc:\\Users\\Arnav\\Desktop\\Projects\\Project-Hm\\Computational Physics Simulations\\Class 16\\vicsek_demo.ipynb Cell 11\u001b[0m line \u001b[0;36m4\n\u001b[0;32m     <a href='vscode-notebook-cell:/c%3A/Users/Arnav/Desktop/Projects/Project-Hm/Computational%20Physics%20Simulations/Class%2016/vicsek_demo.ipynb#X13sZmlsZQ%3D%3D?line=41'>42</a>\u001b[0m \u001b[39mself\u001b[39m\u001b[39m.\u001b[39mpos[i, \u001b[39m0\u001b[39m] \u001b[39m+\u001b[39m\u001b[39m=\u001b[39m \u001b[39mself\u001b[39m\u001b[39m.\u001b[39mspeed \u001b[39m*\u001b[39m np\u001b[39m.\u001b[39mcos(\u001b[39mself\u001b[39m\u001b[39m.\u001b[39mphase[i])\n\u001b[0;32m     <a href='vscode-notebook-cell:/c%3A/Users/Arnav/Desktop/Projects/Project-Hm/Computational%20Physics%20Simulations/Class%2016/vicsek_demo.ipynb#X13sZmlsZQ%3D%3D?line=42'>43</a>\u001b[0m \u001b[39mself\u001b[39m\u001b[39m.\u001b[39mpos[i, \u001b[39m1\u001b[39m] \u001b[39m+\u001b[39m\u001b[39m=\u001b[39m \u001b[39mself\u001b[39m\u001b[39m.\u001b[39mspeed \u001b[39m*\u001b[39m np\u001b[39m.\u001b[39msin(\u001b[39mself\u001b[39m\u001b[39m.\u001b[39mphase[i])\n\u001b[1;32m---> <a href='vscode-notebook-cell:/c%3A/Users/Arnav/Desktop/Projects/Project-Hm/Computational%20Physics%20Simulations/Class%2016/vicsek_demo.ipynb#X13sZmlsZQ%3D%3D?line=43'>44</a>\u001b[0m \u001b[39mself\u001b[39m\u001b[39m.\u001b[39mphase[i] \u001b[39m=\u001b[39m \u001b[39mself\u001b[39m\u001b[39m.\u001b[39mneighbor_avg(i) \u001b[39m+\u001b[39m random\u001b[39m.\u001b[39muniform(\u001b[39m-\u001b[39m\u001b[39m0.5\u001b[39m\u001b[39m*\u001b[39m\u001b[39mself\u001b[39m\u001b[39m.\u001b[39mnoise_mag, \u001b[39m0.5\u001b[39m\u001b[39m*\u001b[39m\u001b[39mself\u001b[39m\u001b[39m.\u001b[39mnoise_mag)\n\u001b[0;32m     <a href='vscode-notebook-cell:/c%3A/Users/Arnav/Desktop/Projects/Project-Hm/Computational%20Physics%20Simulations/Class%2016/vicsek_demo.ipynb#X13sZmlsZQ%3D%3D?line=45'>46</a>\u001b[0m \u001b[39mif\u001b[39;00m \u001b[39mself\u001b[39m\u001b[39m.\u001b[39mpos[i, \u001b[39m0\u001b[39m] \u001b[39m>\u001b[39m\u001b[39m=\u001b[39m \u001b[39mself\u001b[39m\u001b[39m.\u001b[39msize:\n\u001b[0;32m     <a href='vscode-notebook-cell:/c%3A/Users/Arnav/Desktop/Projects/Project-Hm/Computational%20Physics%20Simulations/Class%2016/vicsek_demo.ipynb#X13sZmlsZQ%3D%3D?line=46'>47</a>\u001b[0m     \u001b[39mself\u001b[39m\u001b[39m.\u001b[39mpos[i, \u001b[39m0\u001b[39m] \u001b[39m-\u001b[39m\u001b[39m=\u001b[39m \u001b[39mself\u001b[39m\u001b[39m.\u001b[39msize\n",
      "\u001b[1;32mc:\\Users\\Arnav\\Desktop\\Projects\\Project-Hm\\Computational Physics Simulations\\Class 16\\vicsek_demo.ipynb Cell 11\u001b[0m line \u001b[0;36m3\n\u001b[0;32m     <a href='vscode-notebook-cell:/c%3A/Users/Arnav/Desktop/Projects/Project-Hm/Computational%20Physics%20Simulations/Class%2016/vicsek_demo.ipynb#X13sZmlsZQ%3D%3D?line=29'>30</a>\u001b[0m count \u001b[39m=\u001b[39m \u001b[39m0\u001b[39m\n\u001b[0;32m     <a href='vscode-notebook-cell:/c%3A/Users/Arnav/Desktop/Projects/Project-Hm/Computational%20Physics%20Simulations/Class%2016/vicsek_demo.ipynb#X13sZmlsZQ%3D%3D?line=31'>32</a>\u001b[0m \u001b[39mfor\u001b[39;00m j \u001b[39min\u001b[39;00m \u001b[39mrange\u001b[39m(\u001b[39mself\u001b[39m\u001b[39m.\u001b[39mnum_agents):\n\u001b[1;32m---> <a href='vscode-notebook-cell:/c%3A/Users/Arnav/Desktop/Projects/Project-Hm/Computational%20Physics%20Simulations/Class%2016/vicsek_demo.ipynb#X13sZmlsZQ%3D%3D?line=32'>33</a>\u001b[0m     \u001b[39mif\u001b[39;00m \u001b[39mself\u001b[39m\u001b[39m.\u001b[39mdistance(i, j) \u001b[39m<\u001b[39m \u001b[39m1\u001b[39m:\n\u001b[0;32m     <a href='vscode-notebook-cell:/c%3A/Users/Arnav/Desktop/Projects/Project-Hm/Computational%20Physics%20Simulations/Class%2016/vicsek_demo.ipynb#X13sZmlsZQ%3D%3D?line=33'>34</a>\u001b[0m         csum \u001b[39m+\u001b[39m\u001b[39m=\u001b[39m np\u001b[39m.\u001b[39mcos(\u001b[39mself\u001b[39m\u001b[39m.\u001b[39mphase[j])\n\u001b[0;32m     <a href='vscode-notebook-cell:/c%3A/Users/Arnav/Desktop/Projects/Project-Hm/Computational%20Physics%20Simulations/Class%2016/vicsek_demo.ipynb#X13sZmlsZQ%3D%3D?line=34'>35</a>\u001b[0m         ssum \u001b[39m+\u001b[39m\u001b[39m=\u001b[39m np\u001b[39m.\u001b[39msin(\u001b[39mself\u001b[39m\u001b[39m.\u001b[39mphase[j])\n",
      "\u001b[1;32mc:\\Users\\Arnav\\Desktop\\Projects\\Project-Hm\\Computational Physics Simulations\\Class 16\\vicsek_demo.ipynb Cell 11\u001b[0m line \u001b[0;36m2\n\u001b[0;32m     <a href='vscode-notebook-cell:/c%3A/Users/Arnav/Desktop/Projects/Project-Hm/Computational%20Physics%20Simulations/Class%2016/vicsek_demo.ipynb#X13sZmlsZQ%3D%3D?line=21'>22</a>\u001b[0m \u001b[39mif\u001b[39;00m d[\u001b[39m1\u001b[39m] \u001b[39m>\u001b[39m\u001b[39m=\u001b[39m \u001b[39m0.5\u001b[39m\u001b[39m*\u001b[39m\u001b[39mself\u001b[39m\u001b[39m.\u001b[39msize:\n\u001b[0;32m     <a href='vscode-notebook-cell:/c%3A/Users/Arnav/Desktop/Projects/Project-Hm/Computational%20Physics%20Simulations/Class%2016/vicsek_demo.ipynb#X13sZmlsZQ%3D%3D?line=22'>23</a>\u001b[0m     d[\u001b[39m1\u001b[39m] \u001b[39m-\u001b[39m\u001b[39m=\u001b[39m \u001b[39mself\u001b[39m\u001b[39m.\u001b[39msize\n\u001b[1;32m---> <a href='vscode-notebook-cell:/c%3A/Users/Arnav/Desktop/Projects/Project-Hm/Computational%20Physics%20Simulations/Class%2016/vicsek_demo.ipynb#X13sZmlsZQ%3D%3D?line=24'>25</a>\u001b[0m \u001b[39mreturn\u001b[39;00m np\u001b[39m.\u001b[39mlinalg\u001b[39m.\u001b[39mnorm(d)\n",
      "File \u001b[1;32m<__array_function__ internals>:200\u001b[0m, in \u001b[0;36mnorm\u001b[1;34m(*args, **kwargs)\u001b[0m\n",
      "File \u001b[1;32mc:\\Users\\Arnav\\anaconda3\\Lib\\site-packages\\numpy\\linalg\\linalg.py:2511\u001b[0m, in \u001b[0;36mnorm\u001b[1;34m(x, ord, axis, keepdims)\u001b[0m\n\u001b[0;32m   2509\u001b[0m     sqnorm \u001b[39m=\u001b[39m x_real\u001b[39m.\u001b[39mdot(x_real) \u001b[39m+\u001b[39m x_imag\u001b[39m.\u001b[39mdot(x_imag)\n\u001b[0;32m   2510\u001b[0m \u001b[39melse\u001b[39;00m:\n\u001b[1;32m-> 2511\u001b[0m     sqnorm \u001b[39m=\u001b[39m x\u001b[39m.\u001b[39mdot(x)\n\u001b[0;32m   2512\u001b[0m ret \u001b[39m=\u001b[39m sqrt(sqnorm)\n\u001b[0;32m   2513\u001b[0m \u001b[39mif\u001b[39;00m keepdims:\n",
      "\u001b[1;31mKeyboardInterrupt\u001b[0m: "
     ]
    }
   ],
   "source": [
    "runs = 5\n",
    "size = np.linspace(2, 15, 10)\n",
    "order = np.zeros((len(size), runs))\n",
    "\n",
    "for r in range(runs):\n",
    "    for i in range(len(size)):\n",
    "        v = Vicsek(50, size[i], 2.0, 0.03)\n",
    "        for j in range(50):\n",
    "            v.update()\n",
    "        order[i, r] = v.get_order()\n",
    "\n",
    "plt.errorbar(50/size, np.average(order, axis=1), yerr=np.std(order, axis=1))\n",
    "plt.ylim(0,1)\n",
    "plt.ylabel(\"Order\")\n",
    "plt.xlabel(\"Density\")"
   ]
  },
  {
   "cell_type": "markdown",
   "id": "67e34765",
   "metadata": {},
   "source": [
    "## Performance\n",
    "\n",
    "These examples have used very small numbers of agents, but are still very slow. Why is increasing the number of agents so costly? What can we do about it?\n",
    "\n",
    "Starling flocks can contain over 1 million birds! How do they avoid this problem?"
   ]
  },
  {
   "cell_type": "markdown",
   "id": "c97c0e96",
   "metadata": {},
   "source": [
    "## Cell array"
   ]
  },
  {
   "cell_type": "code",
   "execution_count": null,
   "id": "de01ea0c",
   "metadata": {},
   "outputs": [],
   "source": [
    "class CellArray:\n",
    "    def __init__(self, size, cell_size):\n",
    "        self.size = size\n",
    "        self.cell_size = cell_size\n",
    "        self.num_cells = int(size/cell_size)\n",
    "        self.cell_scale = cell_size/size\n",
    "        \n",
    "        self.cells = np.zeros((self.num_cells, self.num_cells, 2))\n",
    "        self.cell_count = np.zeros((self.num_cells, self.num_cells))\n",
    "        \n",
    "    def cell_pos(self, x, y):\n",
    "        return int(x*self.cell_scale), int(y*self.cell_scale)\n",
    "    \n",
    "    def get_cell_value(self, i, j):\n",
    "        return self.cells[i, j, :]\n",
    "    \n",
    "    def get_cell_count(self, i, j):\n",
    "        return self.cell_count[i, j]\n",
    "    \n",
    "    def clear_cells(self):\n",
    "        self.cells[:, :, :] = 0\n",
    "        self.cell_count[:, :] = 0\n",
    "    \n",
    "    def add(self, i, j, cval, sval):\n",
    "        self.cells[i, j, :] += [cval, sval]\n",
    "        self.cell_count[i, j] += 1"
   ]
  },
  {
   "cell_type": "markdown",
   "id": "de1b1a5b",
   "metadata": {},
   "source": [
    "## Vicsek model with cell array neighbors"
   ]
  },
  {
   "cell_type": "code",
   "execution_count": null,
   "id": "7e5fdaac",
   "metadata": {},
   "outputs": [],
   "source": [
    "class Vicsek2:\n",
    "    def __init__(self, num_agents, size, noise_mag, speed):\n",
    "        self.num_agents = num_agents\n",
    "        self.size = size\n",
    "        self.noise_mag = noise_mag\n",
    "        self.speed = speed\n",
    "\n",
    "        self.pos = size * np.random.rand(num_agents, 2)\n",
    "        self.phase = 2 * math.pi * np.random.rand(num_agents) - math.pi\n",
    "\n",
    "        self.sds = CellArray(size, 1)\n",
    "\n",
    "    def update_cells(self):\n",
    "        self.sds.clear_cells()\n",
    "\n",
    "        for i in range(self.num_agents):\n",
    "            self.sds.add(*self.sds.cell_pos(*self.pos[i, :]), np.cos(self.phase[i]), np.sin(self.phase[i]))\n",
    "\n",
    "    def neighbor_avg(self, i):\n",
    "        sums = np.zeros(2)\n",
    "        count = 0\n",
    "\n",
    "        my_ci, my_cj = self.sds.cell_pos(*self.pos[i, :])\n",
    "        \n",
    "        for ci in range(my_ci-1, my_ci+2):\n",
    "            for cj in range(my_cj-1, my_cj+2):\n",
    "                sums += self.sds.get_cell_value(ci, cj) \n",
    "                count += self.sds.get_cell_count(ci, cj)\n",
    "\n",
    "        return np.arctan2(*(sums/count)) if count != 0 else 0\n",
    "\n",
    "    def update(self):\n",
    "        self.update_cells()\n",
    "\n",
    "        for i in range(self.num_agents):\n",
    "            self.pos[i, 0] += self.speed * np.cos(self.phase[i])\n",
    "            self.pos[i, 1] += self.speed * np.sin(self.phase[i])\n",
    "            self.phase[i] = self.neighbor_avg(i) + random.uniform(-0.5*self.noise_mag, 0.5*self.noise_mag)\n",
    "\n",
    "            if self.pos[i, 0] >= self.size:\n",
    "                self.pos[i, 0] -= self.size\n",
    "            elif self.pos[i, 0] < self.size:\n",
    "                self.pos[i, 0] += self.size\n",
    "            if self.pos[i, 1] >= self.size:\n",
    "                self.pos[i, 1] -= self.size\n",
    "            elif self.pos[i, 1] < self.size:\n",
    "                self.pos[i, 1] += self.size\n",
    "\n",
    "            if self.phase[i] >= math.pi:\n",
    "                self.phase[i] -= math.pi\n",
    "            elif self.phase[i] < -math.pi:\n",
    "                self.phase[i] += math.pi\n",
    "\n",
    "    def get_order(self):\n",
    "        sumx = np.sum(np.cos(self.phase[0:self.num_agents]))\n",
    "        sumy = np.sum(np.sin(self.phase[0:self.num_agents]))\n",
    "\n",
    "        return np.linalg.norm([sumx, sumy]) / self.num_agents"
   ]
  },
  {
   "cell_type": "markdown",
   "id": "e0ac951d",
   "metadata": {},
   "source": [
    "## Performance with the cell array"
   ]
  },
  {
   "cell_type": "code",
   "execution_count": null,
   "id": "44ce6456",
   "metadata": {
    "scrolled": false
   },
   "outputs": [
    {
     "data": {
      "text/plain": [
       "Text(0.5, 0, 'Noise')"
      ]
     },
     "execution_count": 7,
     "metadata": {},
     "output_type": "execute_result"
    },
    {
     "data": {
      "image/png": "[encoded data removed]",
      "text/plain": [
       "<Figure size 640x480 with 1 Axes>"
      ]
     },
     "metadata": {},
     "output_type": "display_data"
    }
   ],
   "source": [
    "runs = 5\n",
    "noise = np.linspace(0, 6.29, 10)\n",
    "order = np.zeros((len(noise), runs))\n",
    "\n",
    "for r in range(runs):\n",
    "    for i in range(len(noise)):\n",
    "        v = Vicsek2(200, 10, noise[i], 0.03)\n",
    "        for j in range(50):\n",
    "            v.update()\n",
    "        order[i, r] = v.get_order()\n",
    "\n",
    "plt.errorbar(noise, np.average(order, axis=1), yerr=np.std(order, axis=1))\n",
    "plt.ylim(0,1)\n",
    "plt.ylabel(\"Order\")\n",
    "plt.xlabel(\"Noise\")"
   ]
  },
  {
   "cell_type": "markdown",
   "id": "bcf82d44",
   "metadata": {},
   "source": [
    "## Limitations of the cell array approach\n",
    "\n",
    "- Is the behavior the same?\n",
    "- Would this work in 3D?\n",
    "- Are there new performance concerns?"
   ]
  },
  {
   "cell_type": "markdown",
   "id": "bf5c628b",
   "metadata": {},
   "source": [
    "## The Reynolds model\n",
    "\n",
    "This model was created with the goal of accurately mimicking the appearance of flocking birds.\n",
    "\n",
    "The Reynolds model is more detailed than the Vicsek model, while still using an agent-based approach. In this case, each agent has three goals:\n",
    "- *Cohesion*: Move toward the center of the nearby birds\n",
    "- *Separation*: Move away from other birds to avoid crashing\n",
    "- *Alignment*: Accelerate to match the velocity of nearby birds\n",
    "\n",
    "These goals determine the acceleration $\\mathbf{a}(t)$ at a particular time step. Position and velocity are computed as expected:\n",
    "\\begin{align}\n",
    "    \\mathbf{x}(t+\\Delta{}t) &= \\mathbf{x}(t) + \\mathbf{v}(t) \\Delta t\\\\\n",
    "    \\mathbf{v}(t+\\Delta{}t) &= \\mathbf{v}(t) + \\mathbf{a}(t) \\Delta t.\n",
    "\\end{align}"
   ]
  },
  {
   "cell_type": "code",
   "execution_count": null,
   "id": "d36e828f",
   "metadata": {},
   "outputs": [
    {
     "data": {
      "text/html": [
       "\n",
       "        <iframe\n",
       "            width=\"1000\"\n",
       "            height=\"600\"\n",
       "            src=\"./reynolds.html\"\n",
       "            frameborder=\"0\"\n",
       "            allowfullscreen\n",
       "            \n",
       "        ></iframe>\n",
       "        "
      ],
      "text/plain": [
       "<IPython.lib.display.IFrame at 0x114ed1450>"
      ]
     },
     "execution_count": 8,
     "metadata": {},
     "output_type": "execute_result"
    }
   ],
   "source": [
    "from IPython.display import IFrame\n",
    "\n",
    "IFrame(src='./reynolds.html', width=1000, height=600)"
   ]
  },
  {
   "cell_type": "markdown",
   "id": "fa889acd",
   "metadata": {},
   "source": [
    "## Many additions are possible\n",
    "\n",
    "- Predator that chases the flock\n",
    "- Obstacles to avoid\n",
    "- Target or avoid the mouse\n",
    "- 3D\n",
    "- Others?"
   ]
  },
  {
   "cell_type": "markdown",
   "id": "e489066a",
   "metadata": {},
   "source": [
    "## Many other flocking models are available\n",
    "\n",
    "- Control theoretic approaches (MPC/cost function)\n",
    "- Data-driven approaches (ML models)\n",
    "- Mean-field and continuum models\n",
    "- Sensory capabilities of the agents\n",
    "- Effect of the medium (water, air, landscape) on the agents\n",
    "- Information: if some birds have a target destination, get others to follow"
   ]
  }
 ],
 "metadata": {
  "kernelspec": {
   "display_name": "Python 3 (ipykernel)",
   "language": "python",
   "name": "python3"
  },
  "language_info": {
   "codemirror_mode": {
    "name": "ipython",
    "version": 3
   },
   "file_extension": ".py",
   "mimetype": "text/x-python",
   "name": "python",
   "nbconvert_exporter": "python",
   "pygments_lexer": "ipython3",
   "version": "3.11.4"
  }
 },
 "nbformat": 4,
 "nbformat_minor": 5
}
